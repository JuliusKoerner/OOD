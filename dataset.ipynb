{
 "cells": [
  {
   "cell_type": "code",
   "execution_count": 1,
   "metadata": {},
   "outputs": [],
   "source": [
    "from torch.utils.data import Dataset\n",
    "from Datasets import load\n",
    "import matplotlib.pyplot as plt\n",
    "import numpy as np\n",
    "from torch.utils.data import DataLoader\n",
    "import torchvision.transforms as transforms\n",
    "from torchvision import datasets\n",
    "import torch"
   ]
  },
  {
   "cell_type": "code",
   "execution_count": 30,
   "metadata": {},
   "outputs": [],
   "source": [
    "dataset = datasets.MNIST(\n",
    "            root=\".\",\n",
    "            train=True,\n",
    "            download=True,\n",
    "            transform=transforms.ToTensor(),\n",
    "        )"
   ]
  },
  {
   "cell_type": "code",
   "execution_count": 2,
   "metadata": {},
   "outputs": [
    {
     "name": "stdout",
     "output_type": "stream",
     "text": [
      "Files already downloaded and verified\n"
     ]
    }
   ],
   "source": [
    "dataset = load('CIFAR10')(train=True)"
   ]
  },
  {
   "cell_type": "code",
   "execution_count": 3,
   "metadata": {},
   "outputs": [
    {
     "data": {
      "text/plain": [
       "(tensor([[[ 2.2114,  2.1944,  2.1775,  2.1944,  2.1944,  2.1944,  2.1944,\n",
       "            2.1944,  2.1944,  2.1775,  2.1775,  2.1775,  2.1605,  2.1775,\n",
       "            2.1944,  2.1605,  2.1605,  2.1775,  2.1266,  2.0587,  2.0926,\n",
       "            2.0587,  2.0926,  2.0926,  2.0587,  2.0757,  2.0587,  2.0417],\n",
       "          [ 2.0757,  2.0247,  1.9908,  1.9908,  2.0078,  2.0078,  1.9738,\n",
       "            1.9908,  1.9569,  1.9229,  1.9569,  1.9569,  1.9399,  1.9569,\n",
       "            2.0078,  1.9060,  1.8890,  1.9399,  1.9229,  1.9060,  1.9908,\n",
       "            1.9060,  1.9060,  1.8890,  1.8211,  1.8381,  1.8720,  1.9060],\n",
       "          [ 1.7702,  1.7702,  1.6514,  1.6514,  1.7023,  1.7363,  1.6514,\n",
       "            1.6005,  1.4987,  1.4987,  1.6514,  1.7532,  1.7023,  1.6854,\n",
       "            1.7872,  1.6345,  1.5836,  1.6514,  1.6005,  1.4987,  1.6684,\n",
       "            1.5836,  1.6345,  1.6514,  1.6005,  1.6684,  1.6854,  1.6684],\n",
       "          [ 1.7702,  1.7363,  1.7023,  1.6854,  1.6684,  1.5326,  1.3120,\n",
       "            1.1933,  0.9387,  0.9896,  1.3120,  1.6345,  1.7363,  1.7532,\n",
       "            1.7193,  1.4987,  1.3460,  1.2442,  1.1084,  0.8539,  0.8878,\n",
       "            0.9896,  1.1424,  1.4139,  1.5496,  1.5326,  1.6854,  1.8211],\n",
       "          [ 1.8381,  1.7532,  1.6684,  1.5836,  1.3799,  1.0066,  0.9387,\n",
       "            1.0575,  0.7181,  0.6842,  0.8878,  1.1084,  1.2272,  1.2781,\n",
       "            1.1593,  0.9896,  0.8878,  0.8199,  0.7012,  0.5654,  0.3448,\n",
       "            0.0563,  0.2430,  0.5654,  0.6672,  0.9048,  1.5666,  1.7702],\n",
       "          [ 1.7532,  1.6514,  1.3460,  1.1763,  0.9218,  0.6842,  0.9218,\n",
       "            1.0066,  0.8199,  0.8539,  0.9218,  0.9557,  0.9387,  0.9218,\n",
       "            0.8878,  0.8878,  0.9387,  0.7690,  0.5654,  0.7351,  0.5993,\n",
       "            0.2091,  0.4806,  0.6163,  0.6163,  1.0914,  1.5666,  1.6175],\n",
       "          [ 1.7193,  1.6005,  1.2102,  0.9048,  0.5993,  0.6842,  1.0405,\n",
       "            0.9727,  1.0575,  1.0914,  1.1084,  1.1084,  1.0405,  0.9557,\n",
       "            0.9896,  1.0745,  1.1254,  0.8539,  0.5315,  0.4975,  0.2430,\n",
       "            0.2260,  1.0914,  1.4478,  1.2442,  1.2781,  1.6514,  1.5836],\n",
       "          [ 1.9399,  1.8042,  1.1424,  0.3618,  0.2260,  0.5654,  0.9387,\n",
       "            0.9387,  0.9387,  0.9557,  1.0236,  1.0745,  1.1424,  1.1763,\n",
       "            1.1593,  1.0914,  1.1424,  1.0236,  0.5484,  0.3278, -0.1812,\n",
       "           -0.4527,  0.9218,  1.4987,  1.3290,  1.3120,  1.8042,  1.6854],\n",
       "          [ 1.8720,  1.6514,  0.8539, -0.4358, -0.5715, -0.1134,  0.5315,\n",
       "            0.4466,  0.2260,  0.3787,  0.5824,  0.7181,  0.8369,  0.9557,\n",
       "            0.9896,  0.7521,  0.8708,  0.9896,  0.6502,  0.3618, -0.1134,\n",
       "           -0.5715,  0.4806,  1.0066,  1.0236,  1.4478,  1.8720,  1.5836],\n",
       "          [ 1.7702,  1.7363,  1.1254, -0.4188, -1.0297, -0.9109, -0.4358,\n",
       "           -0.4867, -0.6394, -0.4527, -0.2491, -0.0625,  0.0903,  0.1921,\n",
       "            0.2091,  0.0394,  0.1921,  0.5145,  0.3787,  0.0903,  0.3278,\n",
       "            0.2260, -0.0794,  0.3448,  0.7690,  1.4817,  1.7702,  1.4987],\n",
       "          [ 1.7193,  1.6514,  1.4648,  0.8539, -0.1134, -1.0806, -1.0467,\n",
       "           -1.1485, -1.1654, -1.0127, -0.9618, -0.8770, -0.7412, -0.6564,\n",
       "           -0.7243, -0.8091, -0.7073, -0.4527, -0.5206, -0.3509,  1.0575,\n",
       "            1.4139, -0.1134, -0.4018,  0.4466,  1.4648,  1.6854,  1.4648],\n",
       "          [ 1.3969,  1.4648,  1.5326,  1.5836,  0.6672, -0.8939, -1.0467,\n",
       "           -1.1485, -1.3351, -1.0127, -0.9788, -1.0976, -1.0976, -0.9958,\n",
       "           -1.0297, -1.1145, -1.0636, -1.0636, -1.0127, -0.0115,  1.3120,\n",
       "            1.3799,  0.3448, -0.4697,  0.1921,  1.3290,  1.5496,  1.3799],\n",
       "          [ 0.2430,  0.4466,  0.6502,  0.8708,  0.3618, -0.8770, -1.1485,\n",
       "           -1.2164, -0.9788, -0.4527, -0.3340, -0.5376, -0.8261, -0.8430,\n",
       "           -0.9109, -1.0636, -1.0976, -1.1994, -0.5546,  0.4297,  0.4975,\n",
       "            0.3109,  0.1072, -0.4358, -0.1982,  0.5824,  0.6842,  0.6333],\n",
       "          [-0.2152, -0.2491, -0.2152, -0.1303, -0.4867, -1.1315, -1.2503,\n",
       "           -0.9958, -0.2831, -0.1473, -0.1982, -0.0794, -0.0794, -0.1643,\n",
       "           -0.3679, -0.9618, -1.0127, -0.8261,  0.5145,  0.6842,  0.1072,\n",
       "           -0.0455, -0.1134, -0.5546, -0.5206, -0.1303, -0.1643, -0.1473],\n",
       "          [-0.1473, -0.1812, -0.1982, -0.1643, -0.5885, -1.1824, -1.3351,\n",
       "           -0.5885, -0.1473, -0.1982, -0.2831, -0.2152, -0.1473, -0.1812,\n",
       "           -0.3000, -0.8600, -0.8770,  0.1412,  1.3969,  1.4139,  0.4975,\n",
       "            0.1072,  0.0394, -0.0455,  0.0733,  0.1242, -0.0115, -0.0794],\n",
       "          [-0.1812, -0.2491, -0.2321, -0.1812, -0.5546, -1.0806, -1.1145,\n",
       "           -0.5206, -0.1982, -0.2491, -0.3000, -0.2831, -0.2831, -0.2491,\n",
       "           -0.2661, -0.7412, -0.9109, -0.1473,  0.3957,  0.6163,  0.4636,\n",
       "           -0.0625, -0.0964, -0.0455,  0.3787,  0.7521,  0.5654,  0.2600],\n",
       "          [-0.2491, -0.3000, -0.3509, -0.3509, -0.5546, -0.8430, -0.7243,\n",
       "           -0.6394, -0.3000, -0.3170, -0.3849, -0.3679, -0.3170, -0.2661,\n",
       "           -0.3000, -0.8261, -0.9279, -0.5206, -0.3340, -0.2831, -0.2321,\n",
       "           -0.2491, -0.3000, -0.2491, -0.0964,  0.2600,  0.4127,  0.2600],\n",
       "          [-0.3170, -0.3509, -0.3849, -0.4018, -0.4867, -0.7243, -0.5376,\n",
       "           -0.6564, -0.4358, -0.3679, -0.3679, -0.4018, -0.3679, -0.3340,\n",
       "           -0.4188, -1.0297, -0.9449, -0.7073, -0.5376, -0.4697, -0.4358,\n",
       "           -0.4188, -0.4018, -0.4018, -0.4018, -0.4188, -0.3849, -0.4018],\n",
       "          [-0.4188, -0.4867, -0.4358, -0.3849, -0.4188, -0.6903, -0.5715,\n",
       "           -0.7243, -0.5206, -0.3679, -0.3679, -0.4188, -0.4188, -0.4358,\n",
       "           -0.6224, -0.9788, -0.7921, -0.9618, -0.7412, -0.5885, -0.5546,\n",
       "           -0.5546, -0.5376, -0.5715, -0.5885, -0.6055, -0.6055, -0.6733],\n",
       "          [-0.4697, -0.4697, -0.4018, -0.4358, -0.5206, -0.7412, -0.6903,\n",
       "           -0.7412, -0.6394, -0.4188, -0.3849, -0.4188, -0.4358, -0.4358,\n",
       "           -0.7412, -0.8430, -0.6733, -0.9449, -0.7752, -0.6224, -0.5715,\n",
       "           -0.5206, -0.6055, -0.6564, -0.6394, -0.6564, -0.6903, -0.8091],\n",
       "          [-0.4358, -0.4018, -0.3340, -0.4188, -0.5546, -0.6224, -0.6564,\n",
       "           -0.8600, -0.7243, -0.6224, -0.5206, -0.4527, -0.4867, -0.4867,\n",
       "           -0.7921, -0.7752, -0.5885, -0.7243, -0.6733, -0.5715, -0.5376,\n",
       "           -0.5376, -0.6055, -0.6394, -0.6224, -0.6394, -0.6394, -0.7752],\n",
       "          [-0.4018, -0.4188, -0.3679, -0.3849, -0.4697, -0.5206, -0.4527,\n",
       "           -0.6733, -0.6055, -0.5715, -0.5206, -0.4867, -0.5546, -0.5885,\n",
       "           -0.7921, -0.7582, -0.6224, -0.6733, -0.6564, -0.5546, -0.5206,\n",
       "           -0.5206, -0.5546, -0.5885, -0.6564, -0.7243, -0.7752, -0.8430],\n",
       "          [-0.3679, -0.4697, -0.4527, -0.4358, -0.4527, -0.4697, -0.4358,\n",
       "           -0.4527, -0.4188, -0.4188, -0.4697, -0.4697, -0.5206, -0.5715,\n",
       "           -0.4867, -0.6055, -0.6903, -0.6903, -0.6564, -0.6055, -0.5715,\n",
       "           -0.6394, -0.6224, -0.6055, -0.6224, -0.6903, -0.7582, -0.8430],\n",
       "          [-0.3849, -0.4697, -0.5037, -0.6055, -0.6394, -0.5885, -0.4867,\n",
       "           -0.4867, -0.4697, -0.4697, -0.5376, -0.5546, -0.5206, -0.6055,\n",
       "           -0.6224, -0.6224, -0.7412, -0.7412, -0.6564, -0.6224, -0.6733,\n",
       "           -0.6564, -0.6055, -0.5885, -0.6055, -0.6394, -0.7243, -0.7582],\n",
       "          [-0.5206, -0.5546, -0.5885, -0.6394, -0.6055, -0.5715, -0.5715,\n",
       "           -0.5546, -0.5376, -0.5206, -0.5885, -0.6224, -0.6055, -0.6224,\n",
       "           -0.6903, -0.6733, -0.7243, -0.7073, -0.4188, -0.5715, -0.8091,\n",
       "           -0.7921, -0.6903, -0.6394, -0.6564, -0.7073, -0.7243, -0.6903],\n",
       "          [-0.7582, -0.7243, -0.7073, -0.6394, -0.5376, -0.5206, -0.6733,\n",
       "           -0.6224, -0.5376, -0.6055, -0.7243, -0.7582, -0.7582, -0.7752,\n",
       "           -0.7921, -0.7752, -0.8430, -0.8770, -0.6055, -0.6564, -0.8770,\n",
       "           -0.9109, -0.8770, -0.8770, -0.9109, -0.9449, -0.9449, -0.8770],\n",
       "          [-0.9279, -0.8600, -0.8430, -0.8261, -0.7582, -0.7412, -0.8091,\n",
       "           -0.7412, -0.6903, -0.7921, -0.8261, -0.8261, -0.8430, -0.8939,\n",
       "           -0.9449, -0.9958, -1.0297, -1.0467, -0.9958, -0.9958, -1.0467,\n",
       "           -1.0297, -1.0636, -1.1485, -1.1485, -1.1485, -1.1485, -1.1315],\n",
       "          [-0.9618, -0.9279, -0.9279, -0.9449, -0.8939, -0.8430, -0.8939,\n",
       "           -0.8939, -0.9449, -0.9618, -0.9788, -0.9958, -0.9449, -0.9618,\n",
       "           -0.9788, -1.0127, -0.9618, -0.8939, -0.9788, -1.1315, -1.1824,\n",
       "           -1.0976, -1.1315, -1.2503, -1.2333, -1.1824, -1.1485, -1.1824]]]),\n",
       " 7)"
      ]
     },
     "execution_count": 3,
     "metadata": {},
     "output_type": "execute_result"
    }
   ],
   "source": [
    "dataset[2000]"
   ]
  },
  {
   "cell_type": "code",
   "execution_count": 4,
   "metadata": {},
   "outputs": [],
   "source": [
    "def calculate_mean_std(loader):\n",
    "    # Variables to store the sum and squared sum of all pixels\n",
    "    mean = 0.0\n",
    "    std = 0.0\n",
    "    total_images = 0\n",
    "\n",
    "    for images, _ in loader:\n",
    "        batch_samples = images.size(0)  # Batch size (the number of images in the batch)\n",
    "        mean += images.mean()\n",
    "        std += images.std()\n",
    "        total_images += batch_samples\n",
    "\n",
    "    mean /= len(loader)\n",
    "    std /=  len(loader)\n",
    "\n",
    "    return mean, std"
   ]
  },
  {
   "cell_type": "code",
   "execution_count": 5,
   "metadata": {},
   "outputs": [],
   "source": [
    "train_loader = DataLoader(dataset, batch_size=64, shuffle=False)"
   ]
  },
  {
   "cell_type": "code",
   "execution_count": 6,
   "metadata": {},
   "outputs": [],
   "source": [
    "mean, std = calculate_mean_std(train_loader)"
   ]
  },
  {
   "cell_type": "code",
   "execution_count": 7,
   "metadata": {},
   "outputs": [
    {
     "data": {
      "text/plain": [
       "(tensor(0.0002), tensor(0.9998))"
      ]
     },
     "execution_count": 7,
     "metadata": {},
     "output_type": "execute_result"
    }
   ],
   "source": [
    "mean, std"
   ]
  },
  {
   "cell_type": "code",
   "execution_count": 14,
   "metadata": {},
   "outputs": [
    {
     "data": {
      "text/plain": [
       "(tensor([[[0.2000, 0.1490, 0.1804, 0.2510, 0.3412, 0.4157, 0.4431, 0.4627,\n",
       "           0.4510, 0.4000, 0.4196, 0.4392, 0.4235, 0.3961, 0.4196, 0.4039,\n",
       "           0.4039, 0.4431, 0.4275, 0.4235, 0.4314, 0.4706, 0.5137, 0.5216,\n",
       "           0.5098, 0.5098, 0.4941, 0.4824],\n",
       "          [0.0667, 0.0235, 0.0980, 0.2039, 0.3176, 0.3765, 0.3647, 0.3569,\n",
       "           0.3294, 0.3059, 0.3020, 0.3216, 0.3255, 0.3333, 0.3451, 0.3176,\n",
       "           0.3294, 0.3765, 0.3765, 0.3843, 0.3647, 0.3569, 0.3804, 0.3961,\n",
       "           0.4039, 0.3804, 0.3569, 0.3529],\n",
       "          [0.0902, 0.0863, 0.1961, 0.2784, 0.3412, 0.3608, 0.3294, 0.3176,\n",
       "           0.3412, 0.3373, 0.3176, 0.3686, 0.3843, 0.3765, 0.3608, 0.3490,\n",
       "           0.3529, 0.3765, 0.4000, 0.4157, 0.3922, 0.3725, 0.3804, 0.4000,\n",
       "           0.4078, 0.3725, 0.3569, 0.3098],\n",
       "          [0.1216, 0.1608, 0.2824, 0.3216, 0.3294, 0.3294, 0.3059, 0.3137,\n",
       "           0.3686, 0.3529, 0.3137, 0.3647, 0.3725, 0.3333, 0.3098, 0.3333,\n",
       "           0.3569, 0.3686, 0.4157, 0.4118, 0.4039, 0.3804, 0.3725, 0.3647,\n",
       "           0.3529, 0.3176, 0.2902, 0.2392],\n",
       "          [0.1843, 0.2275, 0.3216, 0.3608, 0.3608, 0.3529, 0.3333, 0.3137,\n",
       "           0.3608, 0.3333, 0.2980, 0.3216, 0.3255, 0.2863, 0.2706, 0.2863,\n",
       "           0.2863, 0.3098, 0.3412, 0.3176, 0.3647, 0.4039, 0.3804, 0.3333,\n",
       "           0.2863, 0.2235, 0.1412, 0.1176],\n",
       "          [0.2706, 0.3098, 0.3529, 0.3725, 0.3725, 0.3451, 0.3294, 0.3490,\n",
       "           0.3765, 0.3373, 0.3137, 0.2667, 0.2275, 0.2157, 0.2510, 0.2471,\n",
       "           0.1882, 0.1961, 0.2275, 0.3294, 0.3451, 0.4039, 0.4196, 0.3412,\n",
       "           0.2784, 0.2510, 0.2196, 0.1686],\n",
       "          [0.3373, 0.3412, 0.3882, 0.3922, 0.3647, 0.3725, 0.3765, 0.3725,\n",
       "           0.3843, 0.3529, 0.2510, 0.1608, 0.1255, 0.1765, 0.4392, 0.4667,\n",
       "           0.2667, 0.1765, 0.2078, 0.3137, 0.3020, 0.3765, 0.4314, 0.3725,\n",
       "           0.3098, 0.2902, 0.3451, 0.3098],\n",
       "          [0.4196, 0.3804, 0.3922, 0.3686, 0.3529, 0.3647, 0.3686, 0.3647,\n",
       "           0.3961, 0.3020, 0.1647, 0.1373, 0.1412, 0.2078, 0.4706, 0.4784,\n",
       "           0.3608, 0.2431, 0.2078, 0.2039, 0.1922, 0.3098, 0.4039, 0.3961,\n",
       "           0.3804, 0.3608, 0.3608, 0.3882],\n",
       "          [0.4980, 0.4784, 0.4627, 0.4078, 0.3843, 0.3843, 0.3922, 0.4157,\n",
       "           0.3529, 0.2196, 0.1765, 0.1922, 0.2510, 0.2902, 0.3569, 0.3490,\n",
       "           0.3647, 0.3294, 0.3255, 0.2941, 0.2235, 0.2941, 0.3882, 0.3882,\n",
       "           0.3961, 0.3961, 0.3765, 0.3882],\n",
       "          [0.4902, 0.4745, 0.4588, 0.4196, 0.4078, 0.4039, 0.3843, 0.4275,\n",
       "           0.3294, 0.2549, 0.2824, 0.3176, 0.4078, 0.4039, 0.4196, 0.3882,\n",
       "           0.4235, 0.4549, 0.5608, 0.5176, 0.3294, 0.3059, 0.3922, 0.3882,\n",
       "           0.4000, 0.4000, 0.3804, 0.3922],\n",
       "          [0.4667, 0.4510, 0.4392, 0.4275, 0.4000, 0.3216, 0.2902, 0.3608,\n",
       "           0.3098, 0.3882, 0.4667, 0.5059, 0.5804, 0.5333, 0.5686, 0.5647,\n",
       "           0.5765, 0.5843, 0.6392, 0.5804, 0.3843, 0.3255, 0.3961, 0.3961,\n",
       "           0.4000, 0.3961, 0.3843, 0.3922],\n",
       "          [0.5020, 0.4627, 0.4392, 0.4275, 0.3490, 0.2392, 0.2353, 0.2588,\n",
       "           0.3059, 0.5176, 0.6078, 0.5922, 0.7451, 0.7176, 0.7176, 0.7137,\n",
       "           0.6824, 0.6667, 0.6549, 0.6039, 0.5020, 0.4314, 0.3961, 0.3961,\n",
       "           0.3922, 0.4039, 0.3922, 0.4000],\n",
       "          [0.4824, 0.4627, 0.4471, 0.4196, 0.2941, 0.2314, 0.2667, 0.2549,\n",
       "           0.4000, 0.6000, 0.5490, 0.5804, 0.7686, 0.8549, 0.8510, 0.8235,\n",
       "           0.7961, 0.7529, 0.7686, 0.7647, 0.7490, 0.6588, 0.4431, 0.3882,\n",
       "           0.3961, 0.4039, 0.3882, 0.3922],\n",
       "          [0.4667, 0.4275, 0.4275, 0.4157, 0.2667, 0.1961, 0.2431, 0.3412,\n",
       "           0.6196, 0.6275, 0.4510, 0.5765, 0.6863, 0.8863, 0.9647, 0.9412,\n",
       "           0.8824, 0.8275, 0.7882, 0.8275, 0.9137, 0.8196, 0.4863, 0.3961,\n",
       "           0.3961, 0.3843, 0.3765, 0.3725],\n",
       "          [0.4627, 0.4078, 0.4235, 0.4078, 0.2667, 0.2392, 0.3255, 0.5608,\n",
       "           0.7882, 0.5961, 0.5059, 0.6431, 0.7373, 0.8745, 0.9137, 0.8784,\n",
       "           0.8353, 0.7686, 0.6196, 0.6941, 0.8980, 0.8000, 0.5294, 0.4784,\n",
       "           0.4745, 0.4549, 0.4039, 0.3569],\n",
       "          [0.4471, 0.3725, 0.4078, 0.4078, 0.3373, 0.2980, 0.4745, 0.7882,\n",
       "           0.8431, 0.5608, 0.6431, 0.7882, 0.7922, 0.7961, 0.7529, 0.6510,\n",
       "           0.6000, 0.6314, 0.6549, 0.6706, 0.8275, 0.7725, 0.4980, 0.4275,\n",
       "           0.4196, 0.4314, 0.4431, 0.4314],\n",
       "          [0.4431, 0.3412, 0.3647, 0.3843, 0.3765, 0.3804, 0.6863, 0.9098,\n",
       "           0.8118, 0.5490, 0.6745, 0.7961, 0.6196, 0.5490, 0.5020, 0.4824,\n",
       "           0.4824, 0.5255, 0.6824, 0.8000, 0.8706, 0.7765, 0.4588, 0.3412,\n",
       "           0.3333, 0.3216, 0.3569, 0.4667],\n",
       "          [0.4275, 0.3608, 0.3804, 0.3804, 0.4000, 0.6078, 0.8667, 0.8627,\n",
       "           0.7098, 0.5216, 0.5765, 0.6471, 0.4471, 0.4157, 0.4275, 0.4980,\n",
       "           0.4510, 0.4392, 0.5922, 0.7725, 0.7922, 0.7059, 0.4431, 0.3137,\n",
       "           0.3255, 0.3255, 0.3176, 0.4353],\n",
       "          [0.4196, 0.3490, 0.3686, 0.3608, 0.4196, 0.5608, 0.6902, 0.7059,\n",
       "           0.6235, 0.5176, 0.5412, 0.6118, 0.4745, 0.4235, 0.4510, 0.4745,\n",
       "           0.4235, 0.4235, 0.4667, 0.5451, 0.5373, 0.5373, 0.4353, 0.3569,\n",
       "           0.3882, 0.4118, 0.4078, 0.5294],\n",
       "          [0.4157, 0.3569, 0.3804, 0.3804, 0.4353, 0.4275, 0.4549, 0.5843,\n",
       "           0.5882, 0.6078, 0.6275, 0.5922, 0.4863, 0.4235, 0.4353, 0.4471,\n",
       "           0.4471, 0.4392, 0.4314, 0.4392, 0.4314, 0.4118, 0.4157, 0.4314,\n",
       "           0.4353, 0.4275, 0.4706, 0.6471],\n",
       "          [0.4275, 0.3804, 0.3961, 0.4392, 0.4510, 0.4392, 0.4431, 0.5176,\n",
       "           0.5451, 0.6314, 0.6941, 0.6824, 0.5333, 0.4275, 0.4275, 0.4157,\n",
       "           0.4549, 0.4588, 0.4314, 0.3529, 0.2902, 0.2902, 0.4039, 0.4824,\n",
       "           0.4314, 0.3961, 0.5098, 0.6471],\n",
       "          [0.4471, 0.3686, 0.3961, 0.4275, 0.4431, 0.4627, 0.4902, 0.5451,\n",
       "           0.5725, 0.5686, 0.7059, 0.7020, 0.6392, 0.5765, 0.4392, 0.3725,\n",
       "           0.4275, 0.4510, 0.3725, 0.2627, 0.2549, 0.3294, 0.4471, 0.4510,\n",
       "           0.3961, 0.4431, 0.6039, 0.5373],\n",
       "          [0.5373, 0.4118, 0.3804, 0.3725, 0.3882, 0.4353, 0.4784, 0.4980,\n",
       "           0.5137, 0.4588, 0.5020, 0.5294, 0.4863, 0.4863, 0.4314, 0.4039,\n",
       "           0.3882, 0.3765, 0.3804, 0.4078, 0.4392, 0.4471, 0.4275, 0.3922,\n",
       "           0.4118, 0.5725, 0.6784, 0.4549],\n",
       "          [0.6353, 0.5098, 0.4235, 0.3686, 0.3608, 0.3961, 0.4353, 0.4314,\n",
       "           0.4039, 0.3647, 0.4039, 0.4627, 0.4314, 0.3804, 0.3804, 0.4431,\n",
       "           0.4353, 0.4078, 0.4235, 0.4510, 0.4510, 0.4588, 0.4314, 0.4000,\n",
       "           0.4980, 0.6627, 0.5765, 0.3373],\n",
       "          [0.6863, 0.5569, 0.5176, 0.4588, 0.4000, 0.4039, 0.4353, 0.4275,\n",
       "           0.3922, 0.3647, 0.4039, 0.4275, 0.4000, 0.3647, 0.3647, 0.4118,\n",
       "           0.4471, 0.4353, 0.3882, 0.3922, 0.4275, 0.4471, 0.4471, 0.4078,\n",
       "           0.5216, 0.6353, 0.3608, 0.1686],\n",
       "          [0.6784, 0.6000, 0.5882, 0.5490, 0.5020, 0.4667, 0.4510, 0.4157,\n",
       "           0.3882, 0.3961, 0.4157, 0.4235, 0.4000, 0.3804, 0.3843, 0.4235,\n",
       "           0.4431, 0.4510, 0.4078, 0.3529, 0.3804, 0.4314, 0.4078, 0.2863,\n",
       "           0.3569, 0.5255, 0.2510, 0.1255],\n",
       "          [0.5922, 0.5451, 0.5804, 0.5961, 0.6000, 0.5686, 0.5137, 0.4471,\n",
       "           0.4039, 0.4118, 0.4157, 0.4078, 0.4000, 0.3922, 0.4078, 0.4235,\n",
       "           0.4235, 0.4235, 0.3922, 0.3490, 0.3294, 0.3608, 0.2863, 0.1412,\n",
       "           0.2392, 0.5098, 0.3333, 0.2157],\n",
       "          [0.5765, 0.5412, 0.5804, 0.6196, 0.6863, 0.7059, 0.6667, 0.6000,\n",
       "           0.5373, 0.5098, 0.5059, 0.4980, 0.4706, 0.4824, 0.4941, 0.4627,\n",
       "           0.4392, 0.4431, 0.4235, 0.3725, 0.3647, 0.3843, 0.3255, 0.2667,\n",
       "           0.4118, 0.6471, 0.5255, 0.3765]]]),\n",
       " 6)"
      ]
     },
     "execution_count": 14,
     "metadata": {},
     "output_type": "execute_result"
    }
   ],
   "source": [
    "dataset[0]"
   ]
  },
  {
   "cell_type": "code",
   "execution_count": 9,
   "metadata": {},
   "outputs": [
    {
     "data": {
      "text/plain": [
       "<matplotlib.image.AxesImage at 0x7436d5836330>"
      ]
     },
     "execution_count": 9,
     "metadata": {},
     "output_type": "execute_result"
    },
    {
     "data": {
      "image/png": "[encoded data removed]",
      "text/plain": [
       "<Figure size 640x480 with 1 Axes>"
      ]
     },
     "metadata": {},
     "output_type": "display_data"
    }
   ],
   "source": [
    "plt.imshow(dataset[200][0][0])"
   ]
  },
  {
   "cell_type": "code",
   "execution_count": null,
   "metadata": {},
   "outputs": [],
   "source": []
  }
 ],
 "metadata": {
  "kernelspec": {
   "display_name": "ood",
   "language": "python",
   "name": "python3"
  },
  "language_info": {
   "codemirror_mode": {
    "name": "ipython",
    "version": 3
   },
   "file_extension": ".py",
   "mimetype": "text/x-python",
   "name": "python",
   "nbconvert_exporter": "python",
   "pygments_lexer": "ipython3",
   "version": "3.12.2"
  }
 },
 "nbformat": 4,
 "nbformat_minor": 2
}
