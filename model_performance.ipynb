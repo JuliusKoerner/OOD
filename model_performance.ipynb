{
 "cells": [
  {
   "cell_type": "code",
   "execution_count": 1,
   "metadata": {},
   "outputs": [],
   "source": [
    "import torch\n",
    "from src.model import Conv_Net_Dropout, Conv_Net_FC_Dropout\n",
    "from src.Datasets import load\n",
    "from torch.utils.data import DataLoader\n",
    "from tqdm import tqdm"
   ]
  },
  {
   "cell_type": "code",
   "execution_count": 2,
   "metadata": {},
   "outputs": [
    {
     "data": {
      "text/plain": [
       "Conv_Net_FC_Dropout(\n",
       "  (convs): Sequential(\n",
       "    (0): Conv2d(1, 16, kernel_size=(5, 5), stride=(1, 1), padding=(2, 2))\n",
       "    (1): ReLU()\n",
       "    (2): MaxPool2d(kernel_size=2, stride=2, padding=0, dilation=1, ceil_mode=False)\n",
       "    (3): Conv2d(16, 32, kernel_size=(3, 3), stride=(1, 1), padding=(1, 1))\n",
       "    (4): ReLU()\n",
       "    (5): MaxPool2d(kernel_size=2, stride=2, padding=0, dilation=1, ceil_mode=False)\n",
       "    (6): Conv2d(32, 64, kernel_size=(5, 5), stride=(1, 1), padding=(2, 2))\n",
       "    (7): ReLU()\n",
       "  )\n",
       "  (fcs): Sequential(\n",
       "    (0): Dropout(p=0.5, inplace=False)\n",
       "    (1): Linear(in_features=3136, out_features=128, bias=True)\n",
       "    (2): ReLU()\n",
       "    (3): Dropout(p=0.5, inplace=False)\n",
       "    (4): Linear(in_features=128, out_features=10, bias=True)\n",
       "    (5): Softmax(dim=1)\n",
       "  )\n",
       ")"
      ]
     },
     "execution_count": 2,
     "metadata": {},
     "output_type": "execute_result"
    }
   ],
   "source": [
    "model = Conv_Net_FC_Dropout()\n",
    "model.load_state_dict(torch.load('/home/julius/OOD/models/model3_drop_fc_0_5.pth'))\n",
    "model.to('cuda')\n",
    "model.eval()"
   ]
  },
  {
   "cell_type": "code",
   "execution_count": 3,
   "metadata": {},
   "outputs": [],
   "source": [
    "mnist_val = load('MNIST')(train=False)\n",
    "mnist_loader_val = DataLoader(mnist_val, batch_size=128, shuffle=False)\n",
    "\n",
    "mnist_train = load('MNIST')(train=True)\n",
    "mnist_loader_train = DataLoader(mnist_train, batch_size=128, shuffle=False)"
   ]
  },
  {
   "cell_type": "code",
   "execution_count": 4,
   "metadata": {},
   "outputs": [
    {
     "name": "stderr",
     "output_type": "stream",
     "text": [
      "100%|██████████| 79/79 [00:00<00:00, 116.76it/s]\n"
     ]
    }
   ],
   "source": [
    "prediction_val = []\n",
    "with torch.no_grad():\n",
    "    for x, y in tqdm(mnist_loader_val):\n",
    "        x = x.to('cuda')\n",
    "        y = y.to('cuda')\n",
    "        out = model(x)\n",
    "        prediction_val.append(out.argmax(dim=1).cpu() == y.cpu())\n",
    "        "
   ]
  },
  {
   "cell_type": "code",
   "execution_count": 5,
   "metadata": {},
   "outputs": [
    {
     "name": "stderr",
     "output_type": "stream",
     "text": [
      "100%|██████████| 469/469 [00:03<00:00, 151.11it/s]\n"
     ]
    }
   ],
   "source": [
    "prediction_train = []\n",
    "with torch.no_grad():\n",
    "    for x, y in tqdm(mnist_loader_train):\n",
    "        x = x.to('cuda')\n",
    "        y = y.to('cuda')\n",
    "        out = model(x)\n",
    "        prediction_train.append(out.argmax(dim=1).cpu() == y.cpu())"
   ]
  },
  {
   "cell_type": "code",
   "execution_count": 6,
   "metadata": {},
   "outputs": [
    {
     "name": "stdout",
     "output_type": "stream",
     "text": [
      "Validation Accuracy:  0.993399977684021\n",
      "Train Accuracy:  0.9953500032424927\n"
     ]
    }
   ],
   "source": [
    "print('Validation Accuracy: ', torch.cat(prediction_val).float().mean().item())\n",
    "print('Train Accuracy: ', torch.cat(prediction_train).float().mean().item())"
   ]
  },
  {
   "cell_type": "code",
   "execution_count": null,
   "metadata": {},
   "outputs": [],
   "source": []
  }
 ],
 "metadata": {
  "kernelspec": {
   "display_name": "ood",
   "language": "python",
   "name": "python3"
  },
  "language_info": {
   "codemirror_mode": {
    "name": "ipython",
    "version": 3
   },
   "file_extension": ".py",
   "mimetype": "text/x-python",
   "name": "python",
   "nbconvert_exporter": "python",
   "pygments_lexer": "ipython3",
   "version": "3.12.2"
  }
 },
 "nbformat": 4,
 "nbformat_minor": 2
}
